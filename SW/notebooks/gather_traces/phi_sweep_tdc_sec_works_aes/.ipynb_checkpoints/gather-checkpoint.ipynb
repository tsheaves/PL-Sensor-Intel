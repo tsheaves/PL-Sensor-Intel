{
 "cells": [
  {
   "cell_type": "code",
   "execution_count": 1,
   "id": "6fa5db70-5922-4bfb-8d65-cdadf5b1e990",
   "metadata": {},
   "outputs": [],
   "source": [
    "import sys\n",
    "import os\n",
    "import pandas as pd\n",
    "sys.path.append('../../../py_pkg')\n",
    "import platform_designer as qpd\n",
    "import pd_ip.pd_ip as pd_ip\n",
    "from pd_ip.custom_ips import sec_works_aes\n",
    "import pd_ip.quartus_ips as quartus_ips\n",
    "from analysis import tunable_tdc_sweeper as tts\n",
    "mpl.rcParams['figure.dpi'] = 300"
   ]
  },
  {
   "cell_type": "code",
   "execution_count": 2,
   "id": "71869e2d-dc3f-46a2-8421-ca2302c7d6a7",
   "metadata": {},
   "outputs": [
    {
     "name": "stdout",
     "output_type": "stream",
     "text": [
      "Imported from /root/PL-Sensor-Intel/EXPERIMENTS/build_scripts/tdc_sec_works_aes/work/qsys_headers/hps_0.h\n",
      "COMPONENT_NAME: DMA_to_SDRAM\n",
      "\tCSR_COMPONENT_TYPE : altera_msgdma\n",
      "\tCOMPONENT_TYPE : altera_msgdma\n",
      "\tCSR_COMPONENT_NAME : DMA_to_SDRAM\n",
      "\tCSR_BASE : 64\n",
      "\tCSR_SPAN : 32\n",
      "\tCSR_END : 95\n",
      "\tCSR_IRQ : 1\n",
      "\tCSR_BURST_ENABLE : 1\n",
      "\tCSR_BURST_WRAPPING_SUPPORT : 1\n",
      "\tCSR_CHANNEL_ENABLE : 0\n",
      "\tCSR_CHANNEL_ENABLE_DERIVED : 0\n",
      "\tCSR_CHANNEL_WIDTH : 8\n",
      "\tCSR_DATA_FIFO_DEPTH : 2048\n",
      "\tCSR_DATA_WIDTH : 256\n",
      "\tCSR_DESCRIPTOR_FIFO_DEPTH : 32\n",
      "\tCSR_DMA_MODE : 2\n",
      "\tCSR_ENHANCED_FEATURES : 0\n",
      "\tCSR_ERROR_ENABLE : 0\n",
      "\tCSR_ERROR_ENABLE_DERIVED : 0\n",
      "\tCSR_ERROR_WIDTH : 8\n",
      "\tCSR_MAX_BURST_COUNT : 8\n",
      "\tCSR_MAX_BYTE : 65536\n",
      "\tCSR_MAX_STRIDE : 1\n",
      "\tCSR_PACKET_ENABLE : 0\n",
      "\tCSR_PACKET_ENABLE_DERIVED : 0\n",
      "\tCSR_PREFETCHER_ENABLE : 0\n",
      "\tCSR_PROGRAMMABLE_BURST_ENABLE : 0\n",
      "\tCSR_RESPONSE_PORT : 2\n",
      "\tCSR_STRIDE_ENABLE : 0\n",
      "\tCSR_STRIDE_ENABLE_DERIVED : 0\n",
      "\tCSR_TRANSFER_TYPE : Full Word Accesses Only\n",
      "\tDESCRIPTOR_SLAVE_COMPONENT_TYPE : altera_msgdma\n",
      "\tDESCRIPTOR_SLAVE_COMPONENT_NAME : DMA_to_SDRAM\n",
      "\tDESCRIPTOR_SLAVE_BASE : 96\n",
      "\tDESCRIPTOR_SLAVE_SPAN : 16\n",
      "\tDESCRIPTOR_SLAVE_END : 111\n",
      "\tDESCRIPTOR_SLAVE_BURST_ENABLE : 1\n",
      "\tDESCRIPTOR_SLAVE_BURST_WRAPPING_SUPPORT : 1\n",
      "\tDESCRIPTOR_SLAVE_CHANNEL_ENABLE : 0\n",
      "\tDESCRIPTOR_SLAVE_CHANNEL_ENABLE_DERIVED : 0\n",
      "\tDESCRIPTOR_SLAVE_CHANNEL_WIDTH : 8\n",
      "\tDESCRIPTOR_SLAVE_DATA_FIFO_DEPTH : 2048\n",
      "\tDESCRIPTOR_SLAVE_DATA_WIDTH : 256\n",
      "\tDESCRIPTOR_SLAVE_DESCRIPTOR_FIFO_DEPTH : 32\n",
      "\tDESCRIPTOR_SLAVE_DMA_MODE : 2\n",
      "\tDESCRIPTOR_SLAVE_ENHANCED_FEATURES : 0\n",
      "\tDESCRIPTOR_SLAVE_ERROR_ENABLE : 0\n",
      "\tDESCRIPTOR_SLAVE_ERROR_ENABLE_DERIVED : 0\n",
      "\tDESCRIPTOR_SLAVE_ERROR_WIDTH : 8\n",
      "\tDESCRIPTOR_SLAVE_MAX_BURST_COUNT : 8\n",
      "\tDESCRIPTOR_SLAVE_MAX_BYTE : 65536\n",
      "\tDESCRIPTOR_SLAVE_MAX_STRIDE : 1\n",
      "\tDESCRIPTOR_SLAVE_PACKET_ENABLE : 0\n",
      "\tDESCRIPTOR_SLAVE_PACKET_ENABLE_DERIVED : 0\n",
      "\tDESCRIPTOR_SLAVE_PREFETCHER_ENABLE : 0\n",
      "\tDESCRIPTOR_SLAVE_PROGRAMMABLE_BURST_ENABLE : 0\n",
      "\tDESCRIPTOR_SLAVE_RESPONSE_PORT : 2\n",
      "\tDESCRIPTOR_SLAVE_STRIDE_ENABLE : 0\n",
      "\tDESCRIPTOR_SLAVE_STRIDE_ENABLE_DERIVED : 0\n",
      "\tDESCRIPTOR_SLAVE_TRANSFER_TYPE : Full Word Accesses Only\n",
      "COMPONENT_NAME: theta_pll_reconfig\n",
      "\tCOMPONENT_TYPE : altera_pll_reconfig\n",
      "\tCOMPONENT_NAME : theta_pll_reconfig\n",
      "\tBASE : 16777472\n",
      "\tSPAN : 256\n",
      "\tEND : 16777727\n",
      "COMPONENT_NAME: theta_pll_reset_pio\n",
      "\tCOMPONENT_TYPE : altera_avalon_pio\n",
      "\tCOMPONENT_NAME : theta_pll_reset_pio\n",
      "\tBASE : 16777728\n",
      "\tSPAN : 16\n",
      "\tEND : 16777743\n",
      "\tBIT_CLEARING_EDGE_REGISTER : 0\n",
      "\tBIT_MODIFYING_OUTPUT_REGISTER : 0\n",
      "\tCAPTURE : 0\n",
      "\tDATA_WIDTH : 32\n",
      "\tDO_TEST_BENCH_WIRING : 0\n",
      "\tDRIVEN_SIM_VALUE : 0\n",
      "\tEDGE_TYPE : NONE\n",
      "\tFREQ : 100000000\n",
      "\tHAS_IN : 0\n",
      "\tHAS_OUT : 1\n",
      "\tHAS_TRI : 0\n",
      "\tIRQ_TYPE : NONE\n",
      "\tRESET_VALUE : 0\n",
      "COMPONENT_NAME: theta_locked\n",
      "\tCOMPONENT_TYPE : altera_avalon_pio\n",
      "\tCOMPONENT_NAME : theta_locked\n",
      "\tBASE : 16777984\n",
      "\tSPAN : 16\n",
      "\tEND : 16777999\n",
      "\tBIT_CLEARING_EDGE_REGISTER : 0\n",
      "\tBIT_MODIFYING_OUTPUT_REGISTER : 0\n",
      "\tCAPTURE : 0\n",
      "\tDATA_WIDTH : 32\n",
      "\tDO_TEST_BENCH_WIRING : 0\n",
      "\tDRIVEN_SIM_VALUE : 0\n",
      "\tEDGE_TYPE : NONE\n",
      "\tFREQ : 100000000\n",
      "\tHAS_IN : 1\n",
      "\tHAS_OUT : 0\n",
      "\tHAS_TRI : 0\n",
      "\tIRQ_TYPE : NONE\n",
      "\tRESET_VALUE : 0\n",
      "COMPONENT_NAME: phi_pll_reconfig\n",
      "\tCOMPONENT_TYPE : altera_pll_reconfig\n",
      "\tCOMPONENT_NAME : phi_pll_reconfig\n",
      "\tBASE : 16778240\n",
      "\tSPAN : 256\n",
      "\tEND : 16778495\n",
      "COMPONENT_NAME: phi_pll_reset_pio\n",
      "\tCOMPONENT_TYPE : altera_avalon_pio\n",
      "\tCOMPONENT_NAME : phi_pll_reset_pio\n",
      "\tBASE : 16778496\n",
      "\tSPAN : 16\n",
      "\tEND : 16778511\n",
      "\tBIT_CLEARING_EDGE_REGISTER : 0\n",
      "\tBIT_MODIFYING_OUTPUT_REGISTER : 0\n",
      "\tCAPTURE : 0\n",
      "\tDATA_WIDTH : 32\n",
      "\tDO_TEST_BENCH_WIRING : 0\n",
      "\tDRIVEN_SIM_VALUE : 0\n",
      "\tEDGE_TYPE : NONE\n",
      "\tFREQ : 100000000\n",
      "\tHAS_IN : 0\n",
      "\tHAS_OUT : 1\n",
      "\tHAS_TRI : 0\n",
      "\tIRQ_TYPE : NONE\n",
      "\tRESET_VALUE : 0\n",
      "COMPONENT_NAME: phi_locked\n",
      "\tCOMPONENT_TYPE : altera_avalon_pio\n",
      "\tCOMPONENT_NAME : phi_locked\n",
      "\tBASE : 16778752\n",
      "\tSPAN : 16\n",
      "\tEND : 16778767\n",
      "\tBIT_CLEARING_EDGE_REGISTER : 0\n",
      "\tBIT_MODIFYING_OUTPUT_REGISTER : 0\n",
      "\tCAPTURE : 0\n",
      "\tDATA_WIDTH : 32\n",
      "\tDO_TEST_BENCH_WIRING : 0\n",
      "\tDRIVEN_SIM_VALUE : 0\n",
      "\tEDGE_TYPE : NONE\n",
      "\tFREQ : 100000000\n",
      "\tHAS_IN : 1\n",
      "\tHAS_OUT : 0\n",
      "\tHAS_TRI : 0\n",
      "\tIRQ_TYPE : NONE\n",
      "\tRESET_VALUE : 0\n",
      "COMPONENT_NAME: tdc_reset_pio\n",
      "\tCOMPONENT_TYPE : altera_avalon_pio\n",
      "\tCOMPONENT_NAME : tdc_reset_pio\n",
      "\tBASE : 16779264\n",
      "\tSPAN : 16\n",
      "\tEND : 16779279\n",
      "\tBIT_CLEARING_EDGE_REGISTER : 0\n",
      "\tBIT_MODIFYING_OUTPUT_REGISTER : 0\n",
      "\tCAPTURE : 0\n",
      "\tDATA_WIDTH : 32\n",
      "\tDO_TEST_BENCH_WIRING : 0\n",
      "\tDRIVEN_SIM_VALUE : 0\n",
      "\tEDGE_TYPE : NONE\n",
      "\tFREQ : 100000000\n",
      "\tHAS_IN : 0\n",
      "\tHAS_OUT : 1\n",
      "\tHAS_TRI : 0\n",
      "\tIRQ_TYPE : NONE\n",
      "\tRESET_VALUE : 0\n",
      "COMPONENT_NAME: ip_sync\n",
      "\tCOMPONENT_TYPE : ip_sync\n",
      "\tCOMPONENT_NAME : ip_sync\n",
      "\tBASE : 16780288\n",
      "\tSPAN : 1024\n",
      "\tEND : 16781311\n",
      "COMPONENT_NAME: pulsegenerator\n",
      "\tCOMPONENT_TYPE : pulse_generator\n",
      "\tCOMPONENT_NAME : pulsegenerator\n",
      "\tBASE : 16781312\n",
      "\tSPAN : 16\n",
      "\tEND : 16781327\n",
      "COMPONENT_NAME: aes_reset_pio\n",
      "\tCOMPONENT_TYPE : altera_avalon_pio\n",
      "\tCOMPONENT_NAME : aes_reset_pio\n",
      "\tBASE : 16785408\n",
      "\tSPAN : 16\n",
      "\tEND : 16785423\n",
      "\tBIT_CLEARING_EDGE_REGISTER : 0\n",
      "\tBIT_MODIFYING_OUTPUT_REGISTER : 0\n",
      "\tCAPTURE : 0\n",
      "\tDATA_WIDTH : 32\n",
      "\tDO_TEST_BENCH_WIRING : 0\n",
      "\tDRIVEN_SIM_VALUE : 0\n",
      "\tEDGE_TYPE : NONE\n",
      "\tFREQ : 100000000\n",
      "\tHAS_IN : 0\n",
      "\tHAS_OUT : 1\n",
      "\tHAS_TRI : 0\n",
      "\tIRQ_TYPE : NONE\n",
      "\tRESET_VALUE : 0\n"
     ]
    }
   ],
   "source": [
    "# import Quartus Platform Designer system as instance objects\n",
    "sopcinfo_header = os.path.abspath(\"../../../../EXPERIMENTS/build_scripts/tdc_sec_works_aes/work/qsys_headers/hps_0.h\")\n",
    "pd_0 = qpd.pd_system(\"u0\", [sopcinfo_header], 0xC0000000, \"/dev/mem\")\n",
    "# initialize all modules and setup MMIO\n",
    "pd_0.initialize(True)"
   ]
  },
  {
   "cell_type": "code",
   "execution_count": 3,
   "id": "0b50ad54-333d-42a2-a10e-344576d2d27c",
   "metadata": {},
   "outputs": [],
   "source": [
    "# setup DMA *TODO* convert to python module - currently a C driver\n",
    "dma = os.open(\"/dev/msgdma_tdc\", os.O_RDONLY)\n",
    "pd_0.pd_ip_insts[\"DMA_to_SDRAM\"].dma_fh=dma"
   ]
  },
  {
   "cell_type": "code",
   "execution_count": 4,
   "id": "fb40e652",
   "metadata": {},
   "outputs": [],
   "source": [
    "# Connect reset PIOs to proper instances\n",
    "pd_0.pd_ip_insts[\"theta_pll_reconfig\"].reset_pio = pd_0.pd_ip_insts[\"theta_pll_reset_pio\"]\n",
    "pd_0.pd_ip_insts[\"phi_pll_reconfig\"].reset_pio = pd_0.pd_ip_insts[\"phi_pll_reset_pio\"]\n",
    "pd_0.pd_ip_insts[\"pulsegenerator\"].reset_pio = pd_0.pd_ip_insts[\"tdc_reset_pio\"]\n",
    "# Connect locked PIOs to PLLs\n",
    "pd_0.pd_ip_insts[\"theta_pll_reconfig\"].locked_pio = pd_0.pd_ip_insts[\"theta_locked\"]\n",
    "pd_0.pd_ip_insts[\"phi_pll_reconfig\"].locked_pio = pd_0.pd_ip_insts[\"phi_locked\"]\n",
    "# Configure PLL number of outputs\n",
    "pd_0.pd_ip_insts[\"theta_pll_reconfig\"].num_out = 2\n",
    "pd_0.pd_ip_insts[\"phi_pll_reconfig\"].num_out = 1"
   ]
  },
  {
   "cell_type": "code",
   "execution_count": 5,
   "id": "a00cbae8-fb56-4c52-8f65-8c1f479f824b",
   "metadata": {},
   "outputs": [],
   "source": [
    "# Import PLL configs for sweep\n",
    "theta_pll_configs = \"../pll_configs/theta.csv\"\n",
    "theta_cfg_params = pd.read_csv(theta_pll_configs)\n",
    "phi_pll_configs   = \"../pll_configs/phi.csv\"\n",
    "phi_cfg_params = pd.read_csv(phi_pll_configs)"
   ]
  },
  {
   "cell_type": "code",
   "execution_count": 6,
   "id": "c6a64301",
   "metadata": {},
   "outputs": [
    {
     "name": "stdout",
     "output_type": "stream",
     "text": [
      "Pass: AES passed under run condition!\n"
     ]
    }
   ],
   "source": [
    "# Snipped from AES-HD dataset\n",
    "aes_key  = [0x2b7e1516, 0x28aed2a6, 0xabf71588, 0x09cf4f3c]\n",
    "aes_ctxt = [0x6bc1bee2, 0x2e409f96, 0xe93d7e11, 0x7393172a]\n",
    "\n",
    "# AES has no direct interface, so create an instance manually\n",
    "aes_ip_dict = {\n",
    "    \"COMPONENT_NAME\" : \"sec_works_aes_inst\",\n",
    "    \"COMPONENT_TYPE\" : \"sec_works_aes\",\n",
    "    \"BASE\" : 0x000,\n",
    "    \"SPAN\" : 0x000,\n",
    "    \"END\"  : 0x000\n",
    "}\n",
    "pd_0.pd_ip_insts[\"sec_works_aes_inst\"] = sec_works_aes.sec_works_aes(\n",
    "    aes_ip_dict, mmio_init=False, key=aes_key, reset_pio=pd_0.pd_ip_insts[\"aes_reset_pio\"])\n",
    "\n",
    "# All AES traffic flows through IP-Sync instance, so copy it's MMIO interface\n",
    "pd_0.pd_ip_insts[\"ip_sync\"].copy_mmio_ifc(pd_0.pd_ip_insts[\"sec_works_aes_inst\"])\n",
    "\n",
    "# Reset AES\n",
    "pd_0.pd_ip_insts[\"sec_works_aes_inst\"].reset()\n",
    "\n",
    "# Check AES decrypt\n",
    "pd_0.pd_ip_insts[\"sec_works_aes_inst\"].aes_decrypt_ecb_128_prime(aes_ctxt)\n",
    "pd_0.pd_ip_insts[\"sec_works_aes_inst\"].aes_decrypt_ecb_128_run()\n",
    "check = pd_0.pd_ip_insts[\"sec_works_aes_inst\"].aes_decrypt_ecb_128_check(aes_ctxt)\n",
    "if(check == False):\n",
    "    print(\"Pass: AES passed under run condition!\")\n",
    "else:\n",
    "    print(\"Fail: AES failed under run condition!\")"
   ]
  },
  {
   "cell_type": "code",
   "execution_count": 7,
   "id": "39a0be4d",
   "metadata": {},
   "outputs": [],
   "source": [
    "# Initialize Phi to stable PLL configuration\n",
    "n_samples = 2 ** 12\n",
    "n_seq     = 16 # Gives us 2**14 theta claibration samples for rise and fall\n",
    "bitwidth  = 128\n",
    "\n",
    "# Hold pulsegenerator and TDC in reset until PLL is configured\n",
    "pd_0.pd_ip_insts[\"pulsegenerator\"].hold_reset()\n",
    "\n",
    "# Hold PLL theta in reset until after phi is reset\n",
    "pd_0.pd_ip_insts[\"theta_pll_reconfig\"].hold_reset()\n",
    "\n",
    "# # Initialize phi clock - Mostly to ensure bandwidth setting is correct\n",
    "# pll_ctrl.config_mnc( mmio, 32, 1, [32], 0, offst_pll_reconf_phi,\n",
    "#                      offst_pll_locked_phi, offst_pll_reset_phi)\n",
    "pd_0.pd_ip_insts[\"phi_pll_reconfig\"].update_all_50(32, 1, [32], \"low\", 1, [{\"phase_updn\":0, \"phase_amt\":0}])\n",
    "\n",
    "# # Hold PLL theta in reset until after phi is reset\n",
    "pd_0.pd_ip_insts[\"theta_pll_reconfig\"].reset_pll()\n",
    "pd_0.pd_ip_insts[\"pulsegenerator\"].reset()"
   ]
  },
  {
   "cell_type": "code",
   "execution_count": 8,
   "id": "ba445666",
   "metadata": {},
   "outputs": [],
   "source": [
    "tdc_sweeper = tts.TunableTDCSweeper(\n",
    "    pd_0.pd_ip_insts[\"theta_pll_reconfig\"], \n",
    "    pd_0.pd_ip_insts[\"phi_pll_reconfig\"], \n",
    "    pd_0.pd_ip_insts[\"pulsegenerator\"], \n",
    "    pd_0.pd_ip_insts[\"DMA_to_SDRAM\"], \n",
    "    tdc_len = 128)"
   ]
  },
  {
   "cell_type": "code",
   "execution_count": 9,
   "id": "4e04886a",
   "metadata": {},
   "outputs": [
    {
     "name": "stderr",
     "output_type": "stream",
     "text": [
      "100% (320 of 320) |######################| Elapsed Time: 0:02:38 Time:  0:02:38\n"
     ]
    }
   ],
   "source": [
    "sweep_params = {\n",
    "    \"delay_lower_bound\" : 2200,\n",
    "    \"delay_upper_bound\" : 4500,\n",
    "    \"min var prop dist\" : 28,\n",
    "    \"max var prop dist\" : 36,\n",
    "    \"target rising mu\"  : 32\n",
    "}\n",
    "\n",
    "tdc_sweeper.tune_theta(\n",
    "    theta_cfg_params=theta_cfg_params, \n",
    "    phi_cfg_params=phi_cfg_params, \n",
    "    theta_samples=2**12, \n",
    "    sweep_params=sweep_params, \n",
    "    tune_param=\"mid\", \n",
    "    sweep_data_fh=\"../../../archived_results/data/theta_sweep.csv\", \n",
    "    debug=0)"
   ]
  },
  {
   "cell_type": "code",
   "execution_count": 10,
   "id": "12944a50",
   "metadata": {
    "scrolled": true
   },
   "outputs": [
    {
     "name": "stdout",
     "output_type": "stream",
     "text": [
      "M validated\n",
      "N validated\n",
      "C[0] validated!\n",
      "C[1] validated!\n"
     ]
    },
    {
     "data": {
      "text/plain": [
       "0"
      ]
     },
     "execution_count": 10,
     "metadata": {},
     "output_type": "execute_result"
    }
   ],
   "source": [
    "pd_0.pd_ip_insts[\"theta_pll_reconfig\"].check_params()"
   ]
  },
  {
   "cell_type": "code",
   "execution_count": 9,
   "id": "0849f3e6",
   "metadata": {},
   "outputs": [
    {
     "data": {
      "text/plain": [
       "<Figure size 640x480 with 0 Axes>"
      ]
     },
     "metadata": {},
     "output_type": "display_data"
    },
    {
     "data": {
      "image/png": "[encoded data removed]",
      "text/plain": [
       "<Figure size 640x480 with 1 Axes>"
      ]
     },
     "metadata": {},
     "output_type": "display_data"
    },
    {
     "data": {
      "text/plain": [
       "<Figure size 1000x500 with 0 Axes>"
      ]
     },
     "metadata": {},
     "output_type": "display_data"
    },
    {
     "data": {
      "text/plain": [
       "<Figure size 1920x1440 with 0 Axes>"
      ]
     },
     "metadata": {},
     "output_type": "display_data"
    }
   ],
   "source": [
    "tdc_sweeper.plot_theta_sweep_results(\"../../../archived_results/data/theta_sweep.csv\")"
   ]
  },
  {
   "cell_type": "code",
   "execution_count": null,
   "id": "3c147a5c",
   "metadata": {},
   "outputs": [],
   "source": []
  },
  {
   "cell_type": "code",
   "execution_count": null,
   "id": "3b8d80a0",
   "metadata": {},
   "outputs": [],
   "source": []
  }
 ],
 "metadata": {
  "kernelspec": {
   "display_name": "Python 3 (ipykernel)",
   "language": "python",
   "name": "python3"
  },
  "language_info": {
   "codemirror_mode": {
    "name": "ipython",
    "version": 3
   },
   "file_extension": ".py",
   "mimetype": "text/x-python",
   "name": "python",
   "nbconvert_exporter": "python",
   "pygments_lexer": "ipython3",
   "version": "3.7.3"
  }
 },
 "nbformat": 4,
 "nbformat_minor": 5
}
