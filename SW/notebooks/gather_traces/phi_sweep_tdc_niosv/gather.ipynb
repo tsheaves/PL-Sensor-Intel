{
 "cells": [
  {
   "cell_type": "code",
   "execution_count": 1,
   "id": "6fa5db70-5922-4bfb-8d65-cdadf5b1e990",
   "metadata": {},
   "outputs": [
    {
     "ename": "KeyboardInterrupt",
     "evalue": "",
     "output_type": "error",
     "traceback": [
      "\u001b[0;31m---------------------------------------------------------------------------\u001b[0m",
      "\u001b[0;31mKeyboardInterrupt\u001b[0m                         Traceback (most recent call last)",
      "\u001b[0;32m/tmp/ipykernel_1824/164927656.py\u001b[0m in \u001b[0;36m<module>\u001b[0;34m\u001b[0m\n\u001b[1;32m      7\u001b[0m \u001b[0;32mfrom\u001b[0m \u001b[0mpd_ip\u001b[0m\u001b[0;34m.\u001b[0m\u001b[0mcustom_ips\u001b[0m \u001b[0;32mimport\u001b[0m \u001b[0mniosv_aes\u001b[0m\u001b[0;34m\u001b[0m\u001b[0;34m\u001b[0m\u001b[0m\n\u001b[1;32m      8\u001b[0m \u001b[0;32mimport\u001b[0m \u001b[0mpd_ip\u001b[0m\u001b[0;34m.\u001b[0m\u001b[0mquartus_ips\u001b[0m \u001b[0;32mas\u001b[0m \u001b[0mquartus_ips\u001b[0m\u001b[0;34m\u001b[0m\u001b[0;34m\u001b[0m\u001b[0m\n\u001b[0;32m----> 9\u001b[0;31m \u001b[0;32mfrom\u001b[0m \u001b[0manalysis\u001b[0m \u001b[0;32mimport\u001b[0m \u001b[0mtunable_tdc_sweeper\u001b[0m \u001b[0;32mas\u001b[0m \u001b[0mtts\u001b[0m\u001b[0;34m\u001b[0m\u001b[0;34m\u001b[0m\u001b[0m\n\u001b[0m\u001b[1;32m     10\u001b[0m \u001b[0;32mimport\u001b[0m \u001b[0mtime\u001b[0m\u001b[0;34m\u001b[0m\u001b[0;34m\u001b[0m\u001b[0m\n\u001b[1;32m     11\u001b[0m \u001b[0;32mimport\u001b[0m \u001b[0mshutil\u001b[0m\u001b[0;34m\u001b[0m\u001b[0;34m\u001b[0m\u001b[0m\n",
      "\u001b[0;32m~/PL-Sensor-Intel/SW/py_pkg/analysis/__init__.py\u001b[0m in \u001b[0;36m<module>\u001b[0;34m\u001b[0m\n\u001b[1;32m      3\u001b[0m \u001b[0mmodules\u001b[0m \u001b[0;34m=\u001b[0m \u001b[0mglob\u001b[0m\u001b[0;34m.\u001b[0m\u001b[0mglob\u001b[0m\u001b[0;34m(\u001b[0m\u001b[0mjoin\u001b[0m\u001b[0;34m(\u001b[0m\u001b[0mdirname\u001b[0m\u001b[0;34m(\u001b[0m\u001b[0m__file__\u001b[0m\u001b[0;34m)\u001b[0m\u001b[0;34m,\u001b[0m \u001b[0;34m\"*.py\"\u001b[0m\u001b[0;34m)\u001b[0m\u001b[0;34m)\u001b[0m\u001b[0;34m\u001b[0m\u001b[0;34m\u001b[0m\u001b[0m\n\u001b[1;32m      4\u001b[0m \u001b[0m__all__\u001b[0m \u001b[0;34m=\u001b[0m \u001b[0;34m[\u001b[0m \u001b[0mbasename\u001b[0m\u001b[0;34m(\u001b[0m\u001b[0mf\u001b[0m\u001b[0;34m)\u001b[0m\u001b[0;34m[\u001b[0m\u001b[0;34m:\u001b[0m\u001b[0;34m-\u001b[0m\u001b[0;36m3\u001b[0m\u001b[0;34m]\u001b[0m \u001b[0;32mfor\u001b[0m \u001b[0mf\u001b[0m \u001b[0;32min\u001b[0m \u001b[0mmodules\u001b[0m \u001b[0;32mif\u001b[0m \u001b[0misfile\u001b[0m\u001b[0;34m(\u001b[0m\u001b[0mf\u001b[0m\u001b[0;34m)\u001b[0m \u001b[0;32mand\u001b[0m \u001b[0;32mnot\u001b[0m \u001b[0mf\u001b[0m\u001b[0;34m.\u001b[0m\u001b[0mendswith\u001b[0m\u001b[0;34m(\u001b[0m\u001b[0;34m'__init__.py'\u001b[0m\u001b[0;34m)\u001b[0m\u001b[0;34m]\u001b[0m\u001b[0;34m\u001b[0m\u001b[0;34m\u001b[0m\u001b[0m\n\u001b[0;32m----> 5\u001b[0;31m \u001b[0;32mfrom\u001b[0m \u001b[0;34m.\u001b[0m \u001b[0;32mimport\u001b[0m \u001b[0;34m*\u001b[0m\u001b[0;34m\u001b[0m\u001b[0;34m\u001b[0m\u001b[0m\n\u001b[0m",
      "\u001b[0;32m~/PL-Sensor-Intel/SW/py_pkg/analysis/tunable_tdc_sweeper.py\u001b[0m in \u001b[0;36m<module>\u001b[0;34m\u001b[0m\n\u001b[1;32m      6\u001b[0m \u001b[0;32mfrom\u001b[0m \u001b[0mmath\u001b[0m \u001b[0;32mimport\u001b[0m \u001b[0mfloor\u001b[0m\u001b[0;34m\u001b[0m\u001b[0;34m\u001b[0m\u001b[0m\n\u001b[1;32m      7\u001b[0m \u001b[0;32mimport\u001b[0m \u001b[0mprogressbar\u001b[0m\u001b[0;34m\u001b[0m\u001b[0;34m\u001b[0m\u001b[0m\n\u001b[0;32m----> 8\u001b[0;31m \u001b[0;32mimport\u001b[0m \u001b[0mmatplotlib\u001b[0m\u001b[0;34m.\u001b[0m\u001b[0mpyplot\u001b[0m \u001b[0;32mas\u001b[0m \u001b[0mplt\u001b[0m\u001b[0;34m\u001b[0m\u001b[0;34m\u001b[0m\u001b[0m\n\u001b[0m\u001b[1;32m      9\u001b[0m \u001b[0mplt\u001b[0m\u001b[0;34m.\u001b[0m\u001b[0mrcParams\u001b[0m\u001b[0;34m[\u001b[0m\u001b[0;34m'figure.dpi'\u001b[0m\u001b[0;34m]\u001b[0m \u001b[0;34m=\u001b[0m \u001b[0;36m300\u001b[0m\u001b[0;34m\u001b[0m\u001b[0;34m\u001b[0m\u001b[0m\n\u001b[1;32m     10\u001b[0m \u001b[0;32mfrom\u001b[0m \u001b[0mmatplotlib\u001b[0m\u001b[0;34m.\u001b[0m\u001b[0mticker\u001b[0m \u001b[0;32mimport\u001b[0m \u001b[0mMultipleLocator\u001b[0m\u001b[0;34m\u001b[0m\u001b[0;34m\u001b[0m\u001b[0m\n",
      "\u001b[0;32m/usr/lib/python3/dist-packages/matplotlib/pyplot.py\u001b[0m in \u001b[0;36m<module>\u001b[0;34m\u001b[0m\n\u001b[1;32m    778\u001b[0m \u001b[0;34m\u001b[0m\u001b[0m\n\u001b[1;32m    779\u001b[0m \u001b[0;34m@\u001b[0m\u001b[0mdocstring\u001b[0m\u001b[0;34m.\u001b[0m\u001b[0mdedent_interpd\u001b[0m\u001b[0;34m\u001b[0m\u001b[0;34m\u001b[0m\u001b[0m\n\u001b[0;32m--> 780\u001b[0;31m \u001b[0;32mdef\u001b[0m \u001b[0maxes\u001b[0m\u001b[0;34m(\u001b[0m\u001b[0marg\u001b[0m\u001b[0;34m=\u001b[0m\u001b[0;32mNone\u001b[0m\u001b[0;34m,\u001b[0m \u001b[0;34m**\u001b[0m\u001b[0mkwargs\u001b[0m\u001b[0;34m)\u001b[0m\u001b[0;34m:\u001b[0m\u001b[0;34m\u001b[0m\u001b[0;34m\u001b[0m\u001b[0m\n\u001b[0m\u001b[1;32m    781\u001b[0m     \"\"\"\n\u001b[1;32m    782\u001b[0m     \u001b[0mAdd\u001b[0m \u001b[0man\u001b[0m \u001b[0maxes\u001b[0m \u001b[0mto\u001b[0m \u001b[0mthe\u001b[0m \u001b[0mcurrent\u001b[0m \u001b[0mfigure\u001b[0m \u001b[0;32mand\u001b[0m \u001b[0mmake\u001b[0m \u001b[0mit\u001b[0m \u001b[0mthe\u001b[0m \u001b[0mcurrent\u001b[0m \u001b[0maxes\u001b[0m\u001b[0;34m.\u001b[0m\u001b[0;34m\u001b[0m\u001b[0;34m\u001b[0m\u001b[0m\n",
      "\u001b[0;32m/usr/lib/python3/dist-packages/matplotlib/docstring.py\u001b[0m in \u001b[0;36mdedent_interpd\u001b[0;34m(func)\u001b[0m\n\u001b[1;32m    110\u001b[0m     \"\"\"A special case of the interpd that first performs a dedent on\n\u001b[1;32m    111\u001b[0m     the incoming docstring\"\"\"\n\u001b[0;32m--> 112\u001b[0;31m     \u001b[0;32mreturn\u001b[0m \u001b[0minterpd\u001b[0m\u001b[0;34m(\u001b[0m\u001b[0mdedent\u001b[0m\u001b[0;34m(\u001b[0m\u001b[0mfunc\u001b[0m\u001b[0;34m)\u001b[0m\u001b[0;34m)\u001b[0m\u001b[0;34m\u001b[0m\u001b[0;34m\u001b[0m\u001b[0m\n\u001b[0m\u001b[1;32m    113\u001b[0m \u001b[0;34m\u001b[0m\u001b[0m\n\u001b[1;32m    114\u001b[0m \u001b[0;34m\u001b[0m\u001b[0m\n",
      "\u001b[0;32m/usr/lib/python3/dist-packages/matplotlib/docstring.py\u001b[0m in \u001b[0;36m__call__\u001b[0;34m(self, func)\u001b[0m\n\u001b[1;32m     38\u001b[0m         \u001b[0mself\u001b[0m\u001b[0;34m.\u001b[0m\u001b[0mparams\u001b[0m \u001b[0;34m=\u001b[0m \u001b[0margs\u001b[0m \u001b[0;32mor\u001b[0m \u001b[0mkwargs\u001b[0m\u001b[0;34m\u001b[0m\u001b[0;34m\u001b[0m\u001b[0m\n\u001b[1;32m     39\u001b[0m \u001b[0;34m\u001b[0m\u001b[0m\n\u001b[0;32m---> 40\u001b[0;31m     \u001b[0;32mdef\u001b[0m \u001b[0m__call__\u001b[0m\u001b[0;34m(\u001b[0m\u001b[0mself\u001b[0m\u001b[0;34m,\u001b[0m \u001b[0mfunc\u001b[0m\u001b[0;34m)\u001b[0m\u001b[0;34m:\u001b[0m\u001b[0;34m\u001b[0m\u001b[0;34m\u001b[0m\u001b[0m\n\u001b[0m\u001b[1;32m     41\u001b[0m         \u001b[0mfunc\u001b[0m\u001b[0;34m.\u001b[0m\u001b[0m__doc__\u001b[0m \u001b[0;34m=\u001b[0m \u001b[0mfunc\u001b[0m\u001b[0;34m.\u001b[0m\u001b[0m__doc__\u001b[0m \u001b[0;32mand\u001b[0m \u001b[0mfunc\u001b[0m\u001b[0;34m.\u001b[0m\u001b[0m__doc__\u001b[0m \u001b[0;34m%\u001b[0m \u001b[0mself\u001b[0m\u001b[0;34m.\u001b[0m\u001b[0mparams\u001b[0m\u001b[0;34m\u001b[0m\u001b[0;34m\u001b[0m\u001b[0m\n\u001b[1;32m     42\u001b[0m         \u001b[0;32mreturn\u001b[0m \u001b[0mfunc\u001b[0m\u001b[0;34m\u001b[0m\u001b[0;34m\u001b[0m\u001b[0m\n",
      "\u001b[0;31mKeyboardInterrupt\u001b[0m: "
     ]
    }
   ],
   "source": [
    "import sys\n",
    "import os\n",
    "import pandas as pd\n",
    "sys.path.append('../../../py_pkg')\n",
    "import platform_designer as qpd\n",
    "import pd_ip.pd_ip as pd_ip\n",
    "from pd_ip.custom_ips import niosv_aes\n",
    "import pd_ip.quartus_ips as quartus_ips\n",
    "from analysis import tunable_tdc_sweeper as tts\n",
    "import time\n",
    "import shutil\n",
    "# import paramiko\n",
    "# from scp import SCPClient"
   ]
  },
  {
   "cell_type": "code",
   "execution_count": null,
   "id": "71869e2d-dc3f-46a2-8421-ca2302c7d6a7",
   "metadata": {},
   "outputs": [],
   "source": [
    "# import Quartus Platform Designer system as instance objects\n",
    "sopcinfo_header = os.path.abspath(\"../../../../EXPERIMENTS/quartus_projects/niosv_aes/qsys_headers/hps_0.h\")\n",
    "pd_0 = qpd.pd_system(\"u0\", [sopcinfo_header], 0xC0000000, \"/dev/mem\")\n",
    "# initialize all modules and setup MMIO\n",
    "pd_0.initialize(True)"
   ]
  },
  {
   "cell_type": "code",
   "execution_count": null,
   "id": "0b50ad54-333d-42a2-a10e-344576d2d27c",
   "metadata": {},
   "outputs": [],
   "source": [
    "# setup DMA *TODO* convert to python module - currently a C driver\n",
    "dma = os.open(\"/dev/msgdma_tdc\", os.O_RDONLY)\n",
    "pd_0.pd_ip_insts[\"DMA_to_SDRAM\"].dma_fh=dma"
   ]
  },
  {
   "cell_type": "code",
   "execution_count": null,
   "id": "0ea3cbfc",
   "metadata": {},
   "outputs": [],
   "source": [
    "# Connect reset PIOs to proper instances\n",
    "pd_0.pd_ip_insts[\"theta_pll_reconfig\"].reset_pio = pd_0.pd_ip_insts[\"theta_pll_reset_pio\"]\n",
    "pd_0.pd_ip_insts[\"phi_pll_reconfig\"].reset_pio = pd_0.pd_ip_insts[\"phi_pll_reset_pio\"]\n",
    "pd_0.pd_ip_insts[\"pulsegenerator\"].reset_pio = pd_0.pd_ip_insts[\"tdc_reset_pio\"]\n",
    "# Connect locked PIOs to PLLs\n",
    "pd_0.pd_ip_insts[\"theta_pll_reconfig\"].locked_pio = pd_0.pd_ip_insts[\"theta_locked\"]\n",
    "pd_0.pd_ip_insts[\"phi_pll_reconfig\"].locked_pio = pd_0.pd_ip_insts[\"phi_locked\"]\n",
    "# Configure PLL number of outputs\n",
    "pd_0.pd_ip_insts[\"theta_pll_reconfig\"].num_out = 2\n",
    "pd_0.pd_ip_insts[\"phi_pll_reconfig\"].num_out = 1"
   ]
  },
  {
   "cell_type": "code",
   "execution_count": null,
   "id": "a00cbae8-fb56-4c52-8f65-8c1f479f824b",
   "metadata": {},
   "outputs": [],
   "source": [
    "# Import PLL configs for sweep\n",
    "theta_pll_configs = \"../pll_configs/theta.csv\"\n",
    "theta_cfg_params = pd.read_csv(theta_pll_configs)\n",
    "phi_pll_configs   = \"../pll_configs/phi.csv\"\n",
    "phi_cfg_params = pd.read_csv(phi_pll_configs)"
   ]
  },
  {
   "cell_type": "code",
   "execution_count": null,
   "id": "39a0be4d",
   "metadata": {},
   "outputs": [],
   "source": [
    "# Hold pulsegenerator and TDC in reset until PLL is configured\n",
    "pd_0.pd_ip_insts[\"pulsegenerator\"].hold_reset()\n",
    "\n",
    "# Hold PLL theta in reset until after phi is reset\n",
    "pd_0.pd_ip_insts[\"theta_pll_reconfig\"].hold_reset()\n",
    "\n",
    "# # Initialize phi clock - Mostly to ensure bandwidth setting is correct\n",
    "pd_0.pd_ip_insts[\"phi_pll_reconfig\"].update_all_50(64, 2, [32], \"low\", 1, [{\"phase_updn\":0, \"phase_amt\":0}])\n",
    "\n",
    "# # Hold PLL theta in reset until after phi is reset\n",
    "pd_0.pd_ip_insts[\"theta_pll_reconfig\"].reset_pll()\n",
    "pd_0.pd_ip_insts[\"pulsegenerator\"].reset()"
   ]
  },
  {
   "cell_type": "code",
   "execution_count": null,
   "id": "c6a64301",
   "metadata": {},
   "outputs": [],
   "source": [
    "# AES has no direct interface, so create an instance manually\n",
    "niosv_aes_ip_dict = {\n",
    "    \"COMPONENT_NAME\" : \"niosv_aes\",\n",
    "    \"COMPONENT_TYPE\" : \"niosv_aes\",\n",
    "    \"BASE\" : 0x000,\n",
    "    \"SPAN\" : 0x000,\n",
    "    \"END\"  : 0x000\n",
    "}\n",
    "pd_0.pd_ip_insts[\"niosv_aes\"] = niosv_aes.niosv_aes(\n",
    "    ip_dict=niosv_aes_ip_dict, mmio_init=False, periph_mem=pd_0.pd_ip_insts[\"peripheral_mem\"])\n",
    "\n",
    "# All AES traffic flows through IP-Sync instance, so copy it's MMIO interface\n",
    "pd_0.pd_ip_insts[\"ip_sync_niosv\"].copy_mmio_ifc(pd_0.pd_ip_insts[\"niosv_aes\"])\n",
    "\n",
    "# Check AES decrypt\n",
    "pd_0.pd_ip_insts[\"niosv_aes\"].pre()\n",
    "pd_0.pd_ip_insts[\"niosv_aes\"].run()\n",
    "pd_0.pd_ip_insts[\"niosv_aes\"].post()\n",
    "\n",
    "# Hold SEC Works AES in reset during Theta sweep\n",
    "pd_0.pd_ip_insts[\"niosv_aes\"].hold_reset()"
   ]
  },
  {
   "cell_type": "code",
   "execution_count": null,
   "id": "ba445666",
   "metadata": {},
   "outputs": [],
   "source": [
    "# Construct a tdc_sweeper instance\n",
    "tdc_sweeper = tts.TunableTDCSweeper(\n",
    "    pd_0.pd_ip_insts[\"theta_pll_reconfig\"], \n",
    "    pd_0.pd_ip_insts[\"phi_pll_reconfig\"], \n",
    "    pd_0.pd_ip_insts[\"pulsegenerator\"], \n",
    "    pd_0.pd_ip_insts[\"DMA_to_SDRAM\"], \n",
    "    tdc_len = 128,\n",
    "    target_ip=pd_0.pd_ip_insts[\"niosv_aes\"])\n",
    "\n",
    "print(tdc_sweeper.target_ip.print_ip_info())"
   ]
  },
  {
   "cell_type": "code",
   "execution_count": null,
   "id": "a9cc8538",
   "metadata": {},
   "outputs": [],
   "source": [
    "# Sweep theta, collect plot results\n",
    "# Specify theta sweepe parameters\n",
    "theta_sweep_params = {\n",
    "    \"delay_lower_bound\" : 2200,\n",
    "    \"delay_upper_bound\" : 4500,\n",
    "    \"min var prop dist\" : 28,\n",
    "    \"max var prop dist\" : 36,\n",
    "    \"target rising mu\"  : 32\n",
    "}\n",
    "time_now = time.strftime(\"%Y-%m-%d_%H:%M:%S\", time.gmtime())\n",
    "out_fh = f\"../../../archived_results/data/niosv_theta_sweep_{time_now}.csv\"\n",
    "\n",
    "# Start theta sweep\n",
    "tdc_sweeper.sweep_theta(\n",
    "    theta_cfg_params=theta_cfg_params, \n",
    "    theta_samples=2**12, \n",
    "    sweep_params=theta_sweep_params, \n",
    "    tune_param=\"mid\", \n",
    "    sweep_data_fh=out_fh, \n",
    "    debug=0)"
   ]
  },
  {
   "cell_type": "code",
   "execution_count": null,
   "id": "5b7be205",
   "metadata": {},
   "outputs": [],
   "source": [
    "# Plot theta sweep results\n",
    "tdc_sweeper.plot_theta_sweep_results(out_fh)"
   ]
  },
  {
   "cell_type": "code",
   "execution_count": 9,
   "id": "0e1f30c6",
   "metadata": {},
   "outputs": [
    {
     "name": "stderr",
     "output_type": "stream",
     "text": [
      "100% (374 of 374) |######################| Elapsed Time: 0:00:02 Time:  0:00:02\n"
     ]
    },
    {
     "name": "stdout",
     "output_type": "stream",
     "text": [
      "Theta tuning complete! mid falling=57.5655517578125\n",
      "\t          M:44\n",
      "\t          N:2\n",
      "\t          C:11\n",
      "\tPhase Bumps:675\n",
      "\t Delay (ps):3295.4545454545528\n",
      "\tRise pop: 51.27008056640625\n",
      "\tFall pop: 57.5655517578125\n"
     ]
    }
   ],
   "source": [
    "# Specify fast theta tune parameters\n",
    "theta_sweep_params = {\n",
    "    \"delay_lower_bound\" : 2211 + 1075,\n",
    "    \"delay_upper_bound\" : 2211 + 1150,\n",
    "    \"target rising mu\"  : 64\n",
    "}\n",
    "\n",
    "# Start fast theta sweep\n",
    "tdc_sweeper.pop_tune_theta(\n",
    "    theta_cfg_params=theta_cfg_params,\n",
    "    theta_samples=2**12, \n",
    "    sweep_params=theta_sweep_params,\n",
    "    tune_rise=False,\n",
    "    tuning_param=\"mid\")\n",
    "\n",
    "print(f\"\\tRise pop: {tdc_sweeper.tuned_theta_avg_rise}\")\n",
    "print(f\"\\tFall pop: {tdc_sweeper.tuned_theta_avg_fall}\")"
   ]
  },
  {
   "cell_type": "code",
   "execution_count": 11,
   "id": "3e1603e4",
   "metadata": {},
   "outputs": [
    {
     "name": "stderr",
     "output_type": "stream",
     "text": [
      "100% (6625 of 6625) |####################| Elapsed Time: 0:03:40 Time:  0:03:40\n",
      "  0% (0 of 6625) |                       | Elapsed Time: 0:00:00 ETA:  --:--:--\n"
     ]
    },
    {
     "ename": "UnboundLocalError",
     "evalue": "local variable 'phi_sweep_plot_data' referenced before assignment",
     "output_type": "error",
     "traceback": [
      "\u001b[0;31m---------------------------------------------------------------------------\u001b[0m",
      "\u001b[0;31mUnboundLocalError\u001b[0m                         Traceback (most recent call last)",
      "\u001b[0;32m/tmp/ipykernel_1783/3051667601.py\u001b[0m in \u001b[0;36m<module>\u001b[0;34m\u001b[0m\n\u001b[1;32m     29\u001b[0m                       \u001b[0mprocess\u001b[0m\u001b[0;34m=\u001b[0m\u001b[0;32mFalse\u001b[0m\u001b[0;34m,\u001b[0m\u001b[0;31m \u001b[0m\u001b[0;31m\\\u001b[0m\u001b[0;34m\u001b[0m\u001b[0;34m\u001b[0m\u001b[0m\n\u001b[1;32m     30\u001b[0m                       \u001b[0mout_dir\u001b[0m\u001b[0;34m=\u001b[0m\u001b[0mout_dir\u001b[0m\u001b[0;34m+\u001b[0m\u001b[0;34m\"_target\"\u001b[0m\u001b[0;34m,\u001b[0m\u001b[0;31m \u001b[0m\u001b[0;31m\\\u001b[0m\u001b[0;34m\u001b[0m\u001b[0;34m\u001b[0m\u001b[0m\n\u001b[0;32m---> 31\u001b[0;31m                       n_packed_runs=n_packed_runs)\n\u001b[0m",
      "\u001b[0;32m~/PL-Sensor-Intel/SW/py_pkg/analysis/tunable_tdc_sweeper.py\u001b[0m in \u001b[0;36msweep_phi\u001b[0;34m(self, phi_cfg_params, theta_samples, mode, perpetual, process, out_dir, n_packed_runs)\u001b[0m\n\u001b[1;32m    618\u001b[0m                     \u001b[0mphi_sweep_plot_data\u001b[0m\u001b[0;34m[\u001b[0m\u001b[0;34m\"var rise \"\u001b[0m \u001b[0;34m+\u001b[0m \u001b[0mmode\u001b[0m\u001b[0;34m]\u001b[0m\u001b[0;34m.\u001b[0m\u001b[0mappend\u001b[0m\u001b[0;34m(\u001b[0m\u001b[0mvar_pop_rising_bg\u001b[0m\u001b[0;34m)\u001b[0m\u001b[0;34m\u001b[0m\u001b[0;34m\u001b[0m\u001b[0m\n\u001b[1;32m    619\u001b[0m \u001b[0;34m\u001b[0m\u001b[0m\n\u001b[0;32m--> 620\u001b[0;31m                 \u001b[0;32melse\u001b[0m\u001b[0;34m:\u001b[0m\u001b[0;34m\u001b[0m\u001b[0;34m\u001b[0m\u001b[0m\n\u001b[0m\u001b[1;32m    621\u001b[0m                     \u001b[0mphi_sweep_plot_data\u001b[0m\u001b[0;34m[\u001b[0m\u001b[0;34m\"phi delay (ps) \"\u001b[0m \u001b[0;34m+\u001b[0m \u001b[0mmode\u001b[0m\u001b[0;34m]\u001b[0m\u001b[0;34m.\u001b[0m\u001b[0mappend\u001b[0m\u001b[0;34m(\u001b[0m\u001b[0mdelay_ps\u001b[0m\u001b[0;34m)\u001b[0m\u001b[0;34m\u001b[0m\u001b[0;34m\u001b[0m\u001b[0m\n\u001b[1;32m    622\u001b[0m                     \u001b[0mphi_sweep_plot_data\u001b[0m\u001b[0;34m[\u001b[0m\u001b[0;34m\"falling samples \"\u001b[0m \u001b[0;34m+\u001b[0m \u001b[0mmode\u001b[0m\u001b[0;34m]\u001b[0m\u001b[0;34m.\u001b[0m\u001b[0mappend\u001b[0m\u001b[0;34m(\u001b[0m\u001b[0mfalling_samples\u001b[0m\u001b[0;34m)\u001b[0m\u001b[0;34m\u001b[0m\u001b[0;34m\u001b[0m\u001b[0m\n",
      "\u001b[0;31mUnboundLocalError\u001b[0m: local variable 'phi_sweep_plot_data' referenced before assignment"
     ]
    }
   ],
   "source": [
    "# def createSSHClient(server, port, user, keyfile):\n",
    "#     client = paramiko.SSHClient()\n",
    "#     client.load_system_host_keys()\n",
    "#     client.set_missing_host_key_policy(paramiko.AutoAddPolicy())\n",
    "#     client.connect(server, port, username=user, key_filename=keyfile)\n",
    "#     return client\n",
    "\n",
    "# ssh = createSSHClient(server, port, user, password)\n",
    "# scp = SCPClient(ssh.get_transport())\n",
    "# dest_dir=\"/home/tyler/ResearchData/phi_sweep_db/\"\n",
    "theta_samples = 2**12\n",
    "n_packed_runs = 100\n",
    "time_now = time.strftime(\"%Y-%m-%d_%H:%M:%S\", time.gmtime())\n",
    "phi_data_dir = f'../../../archived_results/data/phi_sweep_{time_now}'\n",
    "os.mkdir(phi_data_dir)\n",
    "tdc_sweeper.sweep_phi(phi_cfg_params, \\\n",
    "                      theta_samples, \\\n",
    "                      \"bg\", \\\n",
    "                      perpetual=False, \\\n",
    "                      process=False, \\\n",
    "                      out_dir=phi_data_dir+\"/phi_bg\", \\\n",
    "                      n_packed_runs=n_packed_runs)\n",
    "tdc_sweeper.sweep_phi(phi_cfg_params, \\\n",
    "                      theta_samples, \\\n",
    "                      \"target\", \\\n",
    "                      perpetual=True, \\\n",
    "                      process=False, \\\n",
    "                      out_dir=phi_data_dir+\"/phi_target\", \\\n",
    "                      n_packed_runs=n_packed_runs)"
   ]
  },
  {
   "cell_type": "code",
   "execution_count": null,
   "id": "d323bb6a",
   "metadata": {},
   "outputs": [],
   "source": []
  }
 ],
 "metadata": {
  "kernelspec": {
   "display_name": "Python 3 (ipykernel)",
   "language": "python",
   "name": "python3"
  },
  "language_info": {
   "codemirror_mode": {
    "name": "ipython",
    "version": 3
   },
   "file_extension": ".py",
   "mimetype": "text/x-python",
   "name": "python",
   "nbconvert_exporter": "python",
   "pygments_lexer": "ipython3",
   "version": "3.7.3"
  }
 },
 "nbformat": 4,
 "nbformat_minor": 5
}
