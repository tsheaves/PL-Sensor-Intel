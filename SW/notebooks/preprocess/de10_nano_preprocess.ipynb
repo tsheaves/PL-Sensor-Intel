{
 "cells": [
  {
   "cell_type": "code",
   "execution_count": 3,
   "id": "a9d1c041",
   "metadata": {},
   "outputs": [
    {
     "ename": "AttributeError",
     "evalue": "module 'preprocess' has no attribute 'PLLPreProcessor'",
     "output_type": "error",
     "traceback": [
      "\u001b[0;31m---------------------------------------------------------------------------\u001b[0m",
      "\u001b[0;31mAttributeError\u001b[0m                            Traceback (most recent call last)",
      "\u001b[0;32m/tmp/ipykernel_1279/1875200778.py\u001b[0m in \u001b[0;36m<module>\u001b[0;34m\u001b[0m\n\u001b[1;32m     17\u001b[0m \u001b[0;34m\u001b[0m\u001b[0m\n\u001b[1;32m     18\u001b[0m \u001b[0;31m# Use default Cyclone V Intel configuration\u001b[0m\u001b[0;34m\u001b[0m\u001b[0;34m\u001b[0m\u001b[0;34m\u001b[0m\u001b[0m\n\u001b[0;32m---> 19\u001b[0;31m \u001b[0mpre_proc\u001b[0m     \u001b[0;34m=\u001b[0m \u001b[0mpreprocess\u001b[0m\u001b[0;34m.\u001b[0m\u001b[0mPLLPreProcessor\u001b[0m\u001b[0;34m(\u001b[0m\u001b[0;34m)\u001b[0m\u001b[0;34m\u001b[0m\u001b[0;34m\u001b[0m\u001b[0m\n\u001b[0m\u001b[1;32m     20\u001b[0m \u001b[0mphi_df\u001b[0m       \u001b[0;34m=\u001b[0m \u001b[0mpre_proc\u001b[0m\u001b[0;34m.\u001b[0m\u001b[0mgen_pll_params\u001b[0m\u001b[0;34m(\u001b[0m\u001b[0mphi_ref\u001b[0m\u001b[0;34m,\u001b[0m \u001b[0mphi_out\u001b[0m\u001b[0;34m,\u001b[0m \u001b[0mphi_out\u001b[0m\u001b[0;34m,\u001b[0m \u001b[0;36m0\u001b[0m\u001b[0;34m,\u001b[0m \u001b[0mmax_phi_delay_ps\u001b[0m\u001b[0;34m)\u001b[0m\u001b[0;34m\u001b[0m\u001b[0;34m\u001b[0m\u001b[0m\n\u001b[1;32m     21\u001b[0m \u001b[0mprint\u001b[0m\u001b[0;34m(\u001b[0m\u001b[0mphi_df\u001b[0m\u001b[0;34m)\u001b[0m\u001b[0;34m\u001b[0m\u001b[0;34m\u001b[0m\u001b[0m\n",
      "\u001b[0;31mAttributeError\u001b[0m: module 'preprocess' has no attribute 'PLLPreProcessor'"
     ]
    }
   ],
   "source": [
    "import sys\n",
    "import os\n",
    "import pandas as pd\n",
    "sys.path.append('../../py_pkg')\n",
    "import preprocess\n",
    "\n",
    "# Get delays based on 4pi of target_ip_clk\n",
    "target_ip_clk      = 25*10**6\n",
    "t_target_ip_clk    = 1/target_ip_clk\n",
    "max_phi_delay_ps   = 2*t_target_ip_clk  \n",
    "phi_ref            = 50*10**6\n",
    "phi_sweep_res_ps   = 10\n",
    "phi_out            = 10*10**6\n",
    "theta_out          = 100*10**6\n",
    "theta_sweep_res_ps = 10\n",
    "max_theta_delay_ps = 6000 \n",
    "\n",
    "# Use default Cyclone V Intel configuration\n",
    "pre_proc     = preprocess.PLLPreProcessor()\n",
    "phi_df       = pre_proc.gen_pll_params(phi_ref, phi_out, phi_out, 0, max_phi_delay_ps)\n",
    "print(phi_df)\n",
    "opt_phi_df   = pre_proc.optimize_pll_configs(phi_df, 0, max_phi_delay_ps, phi_sweep_res_ps, \"stability\")\n",
    "print(opt_phi_df)\n",
    "theta_df     = pre_proc.gen_pll_params(phi_out, theta_out, theta_out)\n",
    "opt_theta_df = pre_proc.optimize_pll_configs(theta_df, 0, max_theta_delay_ps, theta_sweep_res_ps, \"stability\")\n",
    "\n"
   ]
  },
  {
   "cell_type": "code",
   "execution_count": null,
   "id": "2d812d60",
   "metadata": {},
   "outputs": [],
   "source": []
  },
  {
   "cell_type": "code",
   "execution_count": null,
   "id": "a0a66f33",
   "metadata": {},
   "outputs": [],
   "source": []
  }
 ],
 "metadata": {
  "kernelspec": {
   "display_name": "Python 3 (ipykernel)",
   "language": "python",
   "name": "python3"
  },
  "language_info": {
   "codemirror_mode": {
    "name": "ipython",
    "version": 3
   },
   "file_extension": ".py",
   "mimetype": "text/x-python",
   "name": "python",
   "nbconvert_exporter": "python",
   "pygments_lexer": "ipython3",
   "version": "3.7.3"
  }
 },
 "nbformat": 4,
 "nbformat_minor": 5
}
